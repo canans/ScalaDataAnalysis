{
  "nbformat": 4,
  "nbformat_minor": 0,
  "metadata": {
    "colab": {
      "name": "scala.ipynb",
      "provenance": [],
      "include_colab_link": true
    },
    "kernelspec": {
      "name": "python3",
      "display_name": "Python 3"
    },
    "language_info": {
      "name": "python"
    }
  },
  "cells": [
    {
      "cell_type": "markdown",
      "metadata": {
        "id": "view-in-github",
        "colab_type": "text"
      },
      "source": [
        "<a href=\"https://colab.research.google.com/github/canans/ScalaDataAnalysis/blob/main/scala.ipynb\" target=\"_parent\"><img src=\"https://colab.research.google.com/assets/colab-badge.svg\" alt=\"Open In Colab\"/></a>"
      ]
    },
    {
      "cell_type": "code",
      "metadata": {
        "id": "oQ2FwrL3ujwt"
      },
      "source": [
        "!apt-get install openjdk-8-jdk-headless -qq > /dev/null"
      ],
      "execution_count": null,
      "outputs": []
    },
    {
      "cell_type": "code",
      "metadata": {
        "id": "EqDaRI2-uxP1"
      },
      "source": [
        "!wget -q https://archive.apache.org/dist/spark/spark-3.0.0/spark-3.0.0-bin-hadoop3.2.tgz\n",
        "\n",
        "\n"
      ],
      "execution_count": null,
      "outputs": []
    },
    {
      "cell_type": "code",
      "metadata": {
        "id": "lfs8I2onu0HM"
      },
      "source": [
        "!tar xf spark-3.0.0-bin-hadoop3.2.tgz\n",
        "\n",
        "\n"
      ],
      "execution_count": null,
      "outputs": []
    },
    {
      "cell_type": "code",
      "metadata": {
        "id": "nOk7darvu2rM"
      },
      "source": [
        "#enviroment\n",
        "import os\n",
        "os.environ[\"JAVA_HOME\"] = \"/usr/lib/jvm/java-8-openjdk-amd64\"\n",
        "os.environ[\"SPARK_HOME\"] = \"/content/spark-3.0.0-bin-hadoop3.2\"\n"
      ],
      "execution_count": null,
      "outputs": []
    },
    {
      "cell_type": "code",
      "metadata": {
        "id": "fbI9-helu4Uz"
      },
      "source": [
        "\n",
        "!pip install -q findspark"
      ],
      "execution_count": null,
      "outputs": []
    },
    {
      "cell_type": "code",
      "metadata": {
        "id": "FY6or8eGu7BA"
      },
      "source": [
        "os.environ[\"SPARK_HOME\"]"
      ],
      "execution_count": null,
      "outputs": []
    },
    {
      "cell_type": "code",
      "metadata": {
        "id": "j-BrM32Iu8lb"
      },
      "source": [
        "import findspark\n",
        "findspark.init()\n",
        "from pyspark.sql import SparkSession\n",
        "spark = SparkSession.builder.master(\"local[*]\").getOrCreate()"
      ],
      "execution_count": null,
      "outputs": []
    },
    {
      "cell_type": "code",
      "metadata": {
        "id": "ZvjBSRLZu-gY"
      },
      "source": [
        "%%shell\n",
        "SCALA_VERSION=2.12.8 ALMOND_VERSION=0.3.0+16-548dc10f-SNAPSHOT\n",
        "curl -Lo coursier https://git.io/coursier-cli\n",
        "chmod +x coursier\n",
        "./coursier bootstrap \\\n",
        "    -r jitpack -r sonatype:snapshots \\\n",
        "    -i user -I user:sh.almond:scala-kernel-api_$SCALA_VERSION:$ALMOND_VERSION \\\n",
        "    sh.almond:scala-kernel_$SCALA_VERSION:$ALMOND_VERSION \\\n",
        "    --sources --default=true \\\n",
        "    -o almond-snapshot --embed-files=false\n",
        "rm coursier\n",
        "./almond-snapshot --install --global --force\n",
        "rm almond-snapshot"
      ],
      "execution_count": null,
      "outputs": []
    },
    {
      "cell_type": "code",
      "metadata": {
        "id": "7SQkajiYvAuz"
      },
      "source": [
        "%%shell\n",
        "echo \"{\n",
        "  \\\"language\\\" : \\\"scala\\\",\n",
        "  \\\"display_name\\\" : \\\"Scala\\\",\n",
        "  \\\"argv\\\" : [\n",
        "    \\\"bash\\\",\n",
        "    \\\"-c\\\",\n",
        "    \\\"env SCALAPY_PYTHON_LIBRARY=python3.6m java -Djna.library.path=/usr/lib/x86_64-linux-gnu/ -jar /usr/local/share/jupyter/kernels/scala/launcher.jar --connection-file {connection_file}\\\"\n",
        "  ]\n",
        "}\" > /usr/local/share/jupyter/kernels/scala/kernel.json"
      ],
      "execution_count": null,
      "outputs": []
    }
  ]
}